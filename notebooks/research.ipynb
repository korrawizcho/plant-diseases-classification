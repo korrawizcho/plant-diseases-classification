{
 "cells": [
  {
   "cell_type": "code",
   "execution_count": 9,
   "metadata": {},
   "outputs": [],
   "source": [
    "from pydantic import create_model, BaseModel"
   ]
  },
  {
   "cell_type": "code",
   "execution_count": 12,
   "metadata": {},
   "outputs": [],
   "source": [
    "my_dict = {\n",
    "    \"key1\": \"value1\",\n",
    "    \"key2\": 2,\n",
    "    \"key3\": True,\n",
    "}\n",
    "\n",
    "class MyDict(BaseModel):\n",
    "    key1: str\n",
    "    key2: int\n",
    "    key3: bool"
   ]
  },
  {
   "cell_type": "code",
   "execution_count": 13,
   "metadata": {},
   "outputs": [
    {
     "data": {
      "text/plain": [
       "MyDict(key1='value1', key2=2, key3=True)"
      ]
     },
     "execution_count": 13,
     "metadata": {},
     "output_type": "execute_result"
    }
   ],
   "source": [
    "MyDict.parse_obj(my_dict)"
   ]
  },
  {
   "cell_type": "code",
   "execution_count": 15,
   "metadata": {},
   "outputs": [],
   "source": [
    "import hydra \n",
    "from hydra.core.config_store import ConfigStore\n",
    "\n",
    "@hydra.main(config_path=\"config\", config_name=\"config\", version_base=None)\n",
    "def printer(cfg):\n",
    "    print(cfg)\n",
    "\n",
    "\n",
    "class Printer:\n",
    "    def __init__(self):\n",
    "        self.cfg = hydra.main()\n",
    "\n",
    "    def __call__(self):\n",
    "        print(self.cfg)"
   ]
  },
  {
   "cell_type": "code",
   "execution_count": 16,
   "metadata": {},
   "outputs": [
    {
     "name": "stdout",
     "output_type": "stream",
     "text": [
      "<function main.<locals>.main_decorator at 0x00000285FF12D240>\n"
     ]
    },
    {
     "name": "stderr",
     "output_type": "stream",
     "text": [
      "C:\\Users\\DELL\\AppData\\Local\\Temp\\ipykernel_10932\\1238962623.py:11: UserWarning: \n",
      "The version_base parameter is not specified.\n",
      "Please specify a compatability version level, or None.\n",
      "Will assume defaults for version 1.1\n",
      "  self.cfg = hydra.main()\n",
      "C:\\Users\\DELL\\AppData\\Local\\Temp\\ipykernel_10932\\1238962623.py:11: UserWarning: \n",
      "config_path is not specified in @hydra.main().\n",
      "See https://hydra.cc/docs/1.2/upgrades/1.0_to_1.1/changes_to_hydra_main_config_path for more information.\n",
      "  self.cfg = hydra.main()\n"
     ]
    }
   ],
   "source": [
    "printer = Printer()\n",
    "printer()"
   ]
  },
  {
   "cell_type": "code",
   "execution_count": 1,
   "metadata": {},
   "outputs": [
    {
     "data": {
      "text/plain": [
       "device(type='cpu')"
      ]
     },
     "execution_count": 1,
     "metadata": {},
     "output_type": "execute_result"
    }
   ],
   "source": [
    "import torch \n",
    "\n",
    "torch.device('cpu')"
   ]
  }
 ],
 "metadata": {
  "kernelspec": {
   "display_name": "plant_disease",
   "language": "python",
   "name": "python3"
  },
  "language_info": {
   "codemirror_mode": {
    "name": "ipython",
    "version": 3
   },
   "file_extension": ".py",
   "mimetype": "text/x-python",
   "name": "python",
   "nbconvert_exporter": "python",
   "pygments_lexer": "ipython3",
   "version": "3.10.11"
  },
  "orig_nbformat": 4
 },
 "nbformat": 4,
 "nbformat_minor": 2
}
